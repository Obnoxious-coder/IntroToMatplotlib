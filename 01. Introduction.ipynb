{
 "cells": [
  {
   "cell_type": "markdown",
   "metadata": {},
   "source": [
    "<h1 style=\"font-size:50px;color:gray;\"><center>Introduction to Matplotlib</center></h1>\n",
    "\n",
    "<img src=https://i.pinimg.com/736x/0a/2c/eb/0a2cebebd96272931f245cb45576f6aa--teacher-memes-math-teacher.jpg height=400 width=400>\n",
    "\n",
    "\n",
    "![](https://matplotlib.org/_static/logo2.svg)\n",
    "\n",
    ">Matplotlib is a Python 2D plotting library which produces publication quality figures in a variety of hardcopy formats and interactive environments across platforms. Matplotlib can be used in Python scripts, the Python and IPython shell, the jupyter notebook, web application servers, and four graphical user interface toolkits.\n",
    "\n",
    "We will explore:\n",
    "- Line Plot\n",
    "- Customizing Line Plots\n",
    "- Bar Chart\n",
    "- Histogram\n",
    "- Scatter Plot\n",
    "- Pie Chart\n",
    "- Curve Plot\n",
    "- Subplots\n",
    "\n",
    "## Installation\n",
    "\n",
    "```\n",
    "pip install matplotlib\n",
    "```"
   ]
  },
  {
   "cell_type": "code",
   "execution_count": 1,
   "metadata": {},
   "outputs": [],
   "source": [
    "import matplotlib"
   ]
  }
 ],
 "metadata": {
  "kernelspec": {
   "display_name": "Python 3",
   "language": "python",
   "name": "python3"
  },
  "language_info": {
   "codemirror_mode": {
    "name": "ipython",
    "version": 3
   },
   "file_extension": ".py",
   "mimetype": "text/x-python",
   "name": "python",
   "nbconvert_exporter": "python",
   "pygments_lexer": "ipython3",
   "version": "3.6.7"
  }
 },
 "nbformat": 4,
 "nbformat_minor": 2
}
